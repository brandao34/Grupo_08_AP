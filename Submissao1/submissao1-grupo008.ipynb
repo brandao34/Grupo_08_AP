{
 "cells": [
  {
   "cell_type": "markdown",
   "metadata": {},
   "source": [
    "Standardize Input Dataset"
   ]
  },
  {
   "cell_type": "code",
   "execution_count": null,
   "metadata": {},
   "outputs": [],
   "source": []
  },
  {
   "cell_type": "markdown",
   "metadata": {},
   "source": [
    "Gerar Submissão Para Modelo NN (Dataset3)"
   ]
  },
  {
   "cell_type": "code",
   "execution_count": 71,
   "metadata": {},
   "outputs": [
    {
     "name": "stdout",
     "output_type": "stream",
     "text": [
      "        Label\n",
      "ID           \n",
      "D2-1       AI\n",
      "D2-2       AI\n",
      "D2-3       AI\n",
      "D2-4    Human\n",
      "D2-5    Human\n",
      "...       ...\n",
      "D2-96   Human\n",
      "D2-97   Human\n",
      "D2-98   Human\n",
      "D2-99   Human\n",
      "D2-100  Human\n",
      "\n",
      "[100 rows x 1 columns]\n"
     ]
    }
   ],
   "source": [
    "import pickle\n",
    "import pandas as pd\n",
    "import numpy as np\n",
    "\n",
    "def preprocessing_inference(df, vectorizer):\n",
    "    X = vectorizer.transform(df['text']).toarray()\n",
    "    return X\n",
    "\n",
    "\n",
    "# Carregar modelo\n",
    "with open(f'../treinar_modelos/treinar_DNN/modelos_dnn/dnn_dataset3.pkl', 'rb') as f:\n",
    "    dnn_model = pickle.load(f)\n",
    "\n",
    "with open(f'../treinar_modelos/treinar_DNN/modelos_dnn/tfidf_dataset3.pkl', 'rb') as f:\n",
    "    tfidf = pickle.load(f)\n",
    "\n",
    "# Carregar dados\n",
    "df_input = pd.read_csv('dataset2_inputs_clean.csv')\n",
    "\n",
    "\n",
    "# Previsões\n",
    "X_new = preprocessing_inference(df_input, tfidf)\n",
    "predictions = dnn_model.predict(X_new)\n",
    "data_previsoes = pd.DataFrame(predictions, columns=[ 'Label'])\n",
    "pred = predictions.flatten()\n",
    "\n",
    "df = pd.DataFrame({\n",
    "    'ID': [f'D2-{i+1}' for i in range(len(data_previsoes))],\n",
    "    'Label': np.where(pred == 0, 'Human', 'AI')\n",
    "})\n",
    "\n",
    "df.set_index('ID', inplace=True)\n",
    "\n",
    "\n",
    "print(df)\n",
    "\n",
    "# Salvar para CSV\n",
    "df.to_csv('submissao1-grupo008-s1.csv', index=True, sep='\\t')\n"
   ]
  },
  {
   "cell_type": "code",
   "execution_count": 72,
   "metadata": {},
   "outputs": [
    {
     "name": "stdout",
     "output_type": "stream",
     "text": [
      "        Label\n",
      "ID           \n",
      "D2-1       AI\n",
      "D2-2       AI\n",
      "D2-3    Human\n",
      "D2-4       AI\n",
      "D2-5    Human\n",
      "...       ...\n",
      "D2-96   Human\n",
      "D2-97   Human\n",
      "D2-98   Human\n",
      "D2-99      AI\n",
      "D2-100  Human\n",
      "\n",
      "[100 rows x 1 columns]\n"
     ]
    }
   ],
   "source": [
    "import pickle\n",
    "import pandas as pd\n",
    "import numpy as np\n",
    "\n",
    "def preprocessing_inference(df, vectorizer):\n",
    "    X = vectorizer.transform(df['text']).toarray()\n",
    "    return X.reshape(X.shape[0], 1, X.shape[1])\n",
    "\n",
    "\n",
    "# Carregar modelo\n",
    "with open(f'../treinar_modelos/treinar_RNN/modelos_rnn/rnn_dataset3.pkl', 'rb') as f:\n",
    "    dnn_model = pickle.load(f)\n",
    "\n",
    "with open(f'../treinar_modelos/treinar_RNN/modelos_rnn/tfidf_dataset3.pkl', 'rb') as f:\n",
    "    tfidf = pickle.load(f)\n",
    "\n",
    "# Carregar dados\n",
    "df_input = pd.read_csv('dataset2_inputs_clean.csv')\n",
    "\n",
    "\n",
    "# Previsões\n",
    "X_new = preprocessing_inference(df_input, tfidf)\n",
    "predictions = dnn_model.predict(X_new)\n",
    "data_previsoes = pd.DataFrame(predictions, columns=[ 'Label'])\n",
    "pred = predictions.flatten()\n",
    "\n",
    "df = pd.DataFrame({\n",
    "    'ID': [f'D2-{i+1}' for i in range(len(data_previsoes))],\n",
    "    'Label': np.where(pred == 0, 'Human', 'AI')\n",
    "})\n",
    "\n",
    "df.set_index('ID', inplace=True)\n",
    "\n",
    "\n",
    "print(df)\n",
    "\n",
    "# Salvar para CSV\n",
    "df.to_csv('submissao1-grupo008-s2.csv', index=True, sep='\\t')\n"
   ]
  }
 ],
 "metadata": {
  "kernelspec": {
   "display_name": "DeepL",
   "language": "python",
   "name": "python3"
  },
  "language_info": {
   "codemirror_mode": {
    "name": "ipython",
    "version": 3
   },
   "file_extension": ".py",
   "mimetype": "text/x-python",
   "name": "python",
   "nbconvert_exporter": "python",
   "pygments_lexer": "ipython3",
   "version": "3.12.2"
  }
 },
 "nbformat": 4,
 "nbformat_minor": 2
}
