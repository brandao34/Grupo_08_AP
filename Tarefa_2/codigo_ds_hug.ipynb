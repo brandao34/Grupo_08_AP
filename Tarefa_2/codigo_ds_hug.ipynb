{
 "cells": [
  {
   "cell_type": "code",
   "execution_count": 10,
   "metadata": {},
   "outputs": [],
   "source": [
    "import pandas as pd\n",
    "from sklearn.feature_extraction.text import TfidfVectorizer\n",
    "from sklearn.metrics import classification_report, confusion_matrix\n",
    "from models.nn import NeuralNetwork\n",
    "from models.rnn import RNN"
   ]
  },
  {
   "cell_type": "code",
   "execution_count": 3,
   "metadata": {},
   "outputs": [],
   "source": [
    "df_train = pd.read_csv('../dataset_hug/Dataset4_train_clean.csv' , sep=',')\n",
    "df_test = pd.read_csv('../dataset_hug/Dataset4_test_clean.csv' , sep=',')\n",
    "df_val = pd.read_csv('../dataset_hug/Dataset4_validation_clean.csv' , sep=',')\n",
    "\n",
    "\n",
    "# Vetorização do texto\n",
    "tfidf = TfidfVectorizer(max_features=1000, stop_words='english')\n",
    "X = tfidf.fit(df_train['text'])\n",
    "\n",
    "def preprocessing(df, vectorizer):\n",
    "    X = vectorizer.transform(df['text']).toarray()\n",
    "    y = df['Label'].map({'AI':1, 'Human':0}).values\n",
    "    return X, y\n",
    "\n",
    "X_train, y_train = preprocessing(df_train, tfidf)\n",
    "X_test, y_test = preprocessing(df_test, tfidf)\n",
    "X_val, y_val = preprocessing(df_val, tfidf)"
   ]
  },
  {
   "cell_type": "code",
   "execution_count": 14,
   "metadata": {},
   "outputs": [
    {
     "name": "stdout",
     "output_type": "stream",
     "text": [
      "\n",
      "Training Neural Network...\n",
      "Epoch 0: Loss = 0.6931559630608699, Accuracy = 48.50%\n",
      "Epoch 99: Loss = 0.6928278397954764, Accuracy = 63.68%\n",
      "              precision    recall  f1-score   support\n",
      "\n",
      "           0       0.63      0.68      0.66     22500\n",
      "           1       0.65      0.60      0.63     22500\n",
      "\n",
      "    accuracy                           0.64     45000\n",
      "   macro avg       0.64      0.64      0.64     45000\n",
      "weighted avg       0.64      0.64      0.64     45000\n",
      "\n",
      "[[15333  7167]\n",
      " [ 8982 13518]]\n"
     ]
    }
   ],
   "source": [
    "print(\"\\nTraining Neural Network...\")\n",
    "nn = NeuralNetwork(input_size=X_train.shape[1], hidden_size=64, \n",
    "                   output_size=1, lr=1, dropout_rate=0.2)\n",
    "nn.train(X_train, y_train, epochs=100)\n",
    "nn_pred = nn.predict(X_test)\n",
    "print(classification_report(y_test,nn_pred))\n",
    "print(confusion_matrix(y_test,nn_pred))"
   ]
  }
 ],
 "metadata": {
  "kernelspec": {
   "display_name": "DAA",
   "language": "python",
   "name": "python3"
  },
  "language_info": {
   "codemirror_mode": {
    "name": "ipython",
    "version": 3
   },
   "file_extension": ".py",
   "mimetype": "text/x-python",
   "name": "python",
   "nbconvert_exporter": "python",
   "pygments_lexer": "ipython3",
   "version": "3.11.10"
  }
 },
 "nbformat": 4,
 "nbformat_minor": 2
}
