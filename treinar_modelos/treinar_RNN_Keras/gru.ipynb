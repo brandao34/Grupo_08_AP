{
 "cells": [
  {
   "cell_type": "markdown",
   "metadata": {},
   "source": [
    "# Pipeline de Treinamento GRU para Detecção de Texto\n",
    "## (AI vs Human) - Multi Dataset"
   ]
  },
  {
   "cell_type": "code",
   "execution_count": 6,
   "metadata": {},
   "outputs": [],
   "source": [
    "import pandas as pd\n",
    "import os\n",
    "import pickle\n",
    "import numpy as np\n",
    "from sklearn.feature_extraction.text import TfidfVectorizer\n",
    "from sklearn.metrics import classification_report, confusion_matrix\n",
    "from tensorflow.keras.models import Sequential, load_model\n",
    "from tensorflow.keras.layers import GRU, Dense, Dropout\n",
    "from tensorflow.keras.optimizers import Adam\n",
    "from tensorflow.keras.callbacks import EarlyStopping"
   ]
  },
  {
   "cell_type": "code",
   "execution_count": 7,
   "metadata": {},
   "outputs": [],
   "source": [
    "def load_dataset(dataset_version):\n",
    "    base_path = f'../../datasets/{dataset_version}/'\n",
    "    train_file = f'Dataset{dataset_version}_train_clean.csv'\n",
    "    test_file = f'Dataset{dataset_version}_test_clean.csv'\n",
    "    validation_file = f'Dataset{dataset_version}_validation_clean.csv'\n",
    "    \n",
    "    train = pd.read_csv(os.path.join(base_path, train_file), sep=',')\n",
    "    test = pd.read_csv(os.path.join(base_path, test_file), sep=',')\n",
    "    \n",
    "    validation_path = os.path.join(base_path, validation_file)\n",
    "    if os.path.exists(validation_path):\n",
    "        validation = pd.read_csv(validation_path, sep=',')\n",
    "    else:\n",
    "        validation = None\n",
    "    \n",
    "    return train, test, validation"
   ]
  },
  {
   "cell_type": "code",
   "execution_count": 8,
   "metadata": {},
   "outputs": [],
   "source": [
    "NAME = \"unigram_be.keras\"\n",
    "from tensorflow.keras.layers import TextVectorization\n",
    "\n",
    "# Configuração do TextVectorization para unigramas\n",
    "text_vectorization_singlegram_be = TextVectorization(\n",
    "    max_tokens=5000,  # Número máximo de tokens\n",
    "    output_mode=\"multi_hot\",  # Representação multi-hot\n",
    "    standardize=\"lower_and_strip_punctuation\",  # Normalização do texto\n",
    ")\n",
    "def preprocess_text(text_ds):\n",
    "    text_ds_2 = text_ds['text']\n",
    "    text_vectorization_singlegram_be.adapt(text_ds_2)\n",
    "    vectorized_text = text_ds_2.map(lambda x: text_vectorization_singlegram_be(x))\n",
    "    return np.array(list(vectorized_text)) \n",
    "\n",
    "def unigram_preprocessing(train, test, validation):\n",
    "    # Pré-processa apenas a coluna de texto\n",
    "    X_train = preprocess_text(train)\n",
    "    X_test = preprocess_text(test)\n",
    "    \n",
    "    # Converte os rótulos para valores numéricos\n",
    "    y_train = train['Label'].map({'AI': 1, 'Human': 0}).values\n",
    "    y_test = test['Label'].map({'AI': 1, 'Human': 0}).values\n",
    "    \n",
    "    # Processa validação apenas se existir\n",
    "    X_val = None\n",
    "    y_val = None\n",
    "    if validation is not None:\n",
    "        X_val = preprocess_text(validation)\n",
    "        y_val = validation['Label'].map({'AI': 1, 'Human': 0}).values\n",
    "    \n",
    "    return X_train, y_train, X_test, y_test, X_val, y_val"
   ]
  },
  {
   "cell_type": "markdown",
   "metadata": {},
   "source": [
    "## Função de Treinamento Modificada para GRU"
   ]
  },
  {
   "cell_type": "code",
   "execution_count": 9,
   "metadata": {},
   "outputs": [],
   "source": [
    "def train_evaluate_gru(X_train, y_train, X_test, y_test, X_val, y_val, input_size):\n",
    "    # Reshape para formato sequencial\n",
    "    X_train_seq = X_train.reshape(X_train.shape[0], 1, X_train.shape[1])\n",
    "    X_test_seq = X_test.reshape(X_test.shape[0], 1, X_test.shape[1])\n",
    "    \n",
    "    print(\"\\nIniciando treinamento da GRU...\")\n",
    "\n",
    "    model = Sequential([\n",
    "        GRU(64, \n",
    "            input_shape=(1, input_size),\n",
    "            dropout=0.2,\n",
    "            recurrent_dropout=0.2),\n",
    "        Dense(1, activation='sigmoid')\n",
    "    ])\n",
    "    \n",
    "    model.compile(\n",
    "        loss='binary_crossentropy',\n",
    "        optimizer=Adam(learning_rate=0.001),\n",
    "        metrics=['accuracy']\n",
    "    )\n",
    "    \n",
    "    early_stop = EarlyStopping(monitor='val_loss', patience=5, restore_best_weights=True)\n",
    "    \n",
    "    validation_data = (X_val.reshape(X_val.shape[0], 1, X_val.shape[1]), y_val) if X_val is not None else None\n",
    "    \n",
    "    history = model.fit(\n",
    "        X_train_seq, y_train,\n",
    "        epochs=100,\n",
    "        validation_data=validation_data,\n",
    "        callbacks=[early_stop],\n",
    "        verbose=1\n",
    "    )\n",
    "    \n",
    "    # Avaliação\n",
    "    loss, accuracy = model.evaluate(X_test_seq, y_test, verbose=0)\n",
    "    print(f\"\\nTest Loss: {loss:.4f}, Test Accuracy: {accuracy:.4f}\")\n",
    "    \n",
    "    # Previsões\n",
    "    gru_pred = (model.predict(X_test_seq) > 0.5).astype(int)\n",
    "    print(\"\\nRelatório de Classificação:\")\n",
    "    print(classification_report(y_test, gru_pred))\n",
    "    print(\"Matriz de Confusão:\")\n",
    "    print(confusion_matrix(y_test, gru_pred))\n",
    "    \n",
    "    return model"
   ]
  },
  {
   "cell_type": "markdown",
   "metadata": {},
   "source": [
    "## Pipeline Principal para GRU"
   ]
  },
  {
   "cell_type": "code",
   "execution_count": null,
   "metadata": {},
   "outputs": [
    {
     "name": "stderr",
     "output_type": "stream",
     "text": [
      "2025-04-02 16:45:52.903783: W external/local_xla/xla/tsl/framework/cpu_allocator_impl.cc:83] Allocation of 64212024 exceeds 10% of free system memory.\n"
     ]
    }
   ],
   "source": [
    "DATASET_VERSION = 3\n",
    "SAVE_DIR = 'modelos_gru/'\n",
    "os.makedirs(SAVE_DIR, exist_ok=True)\n",
    "\n",
    "# Carregar dados\n",
    "train, test, validation = load_dataset(DATASET_VERSION)\n",
    "\n",
    "# Pré-processamento\n",
    "X_train, y_train, X_test, y_test, X_val, y_val = unigram_preprocessing(train, test, validation)\n",
    "\n",
    "# Treinar GRU\n",
    "gru_model = train_evaluate_gru(X_train, y_train, X_test, y_test, X_val, y_val, input_size=X_train.shape[1])\n",
    "\n",
    "# Salvar modelos\n",
    "gru_model.save(f'{SAVE_DIR}gru_dataset{DATASET_VERSION}.keras')\n",
    "with open(f'{SAVE_DIR}tfidf_dataset{DATASET_VERSION}.pkl', 'wb') as f:\n",
    "    pickle.dump(tfidf, f)\n",
    "\n",
    "print(\"\\nPipeline concluído! Modelos salvos em 'modelos_gru/'.\")"
   ]
  },
  {
   "cell_type": "markdown",
   "metadata": {},
   "source": [
    "## Código de Inferência para GRU"
   ]
  },
  {
   "cell_type": "code",
   "execution_count": null,
   "metadata": {},
   "outputs": [
    {
     "name": "stdout",
     "output_type": "stream",
     "text": [
      "\u001b[1m1/1\u001b[0m \u001b[32m━━━━━━━━━━━━━━━━━━━━\u001b[0m\u001b[37m\u001b[0m \u001b[1m0s\u001b[0m 258ms/step\n",
      "\n",
      "Relatório Final:\n",
      "              precision    recall  f1-score   support\n",
      "\n",
      "          AI       0.50      0.20      0.29        15\n",
      "       Human       0.50      0.80      0.62        15\n",
      "\n",
      "    accuracy                           0.50        30\n",
      "   macro avg       0.50      0.50      0.45        30\n",
      "weighted avg       0.50      0.50      0.45        30\n",
      "\n",
      "Matriz de Confusão Final:\n",
      "[[ 3 12]\n",
      " [ 3 12]]\n"
     ]
    }
   ],
   "source": [
    "def preprocessing_inference(df, vectorizer):\n",
    "    text_data = df['Text']  \n",
    "    X = vectorizer(text_data).numpy()  \n",
    "    return X.reshape(X.shape[0], 1, X.shape[1]) \n",
    "\n",
    "# Carregar modelo\n",
    "gru_model = load_model(f'{SAVE_DIR}gru_dataset{DATASET_VERSION}.keras')\n",
    "\n",
    "# Carregar dados\n",
    "df_input = pd.read_csv('../../datasets/val/dataset1_inputs.csv', sep='\\t')\n",
    "df_output = pd.read_csv('../../datasets/val/dataset1_outputs.csv', sep='\\t')\n",
    "\n",
    "# Previsões\n",
    "text_vectorization_singlegram_be.adapt(train['text'])  \n",
    "\n",
    "X_new = preprocessing_inference(df_input, text_vectorization_singlegram_be)\n",
    "predictions = (gru_model.predict(X_new) > 0.5).astype(int)\n",
    "df_output['Predicted'] = np.where(predictions == 1, 'AI', 'Human')\n",
    "\n",
    "# Métricas\n",
    "print(\"\\nRelatório Final:\")\n",
    "print(classification_report(df_output['Label'], df_output['Predicted']))\n",
    "print(\"Matriz de Confusão Final:\")\n",
    "print(confusion_matrix(df_output['Label'], df_output['Predicted']))"
   ]
  }
 ],
 "metadata": {
  "kernelspec": {
   "display_name": "DeepL",
   "language": "python",
   "name": "python3"
  },
  "language_info": {
   "codemirror_mode": {
    "name": "ipython",
    "version": 3
   },
   "file_extension": ".py",
   "mimetype": "text/x-python",
   "name": "python",
   "nbconvert_exporter": "python",
   "pygments_lexer": "ipython3",
   "version": "3.12.2"
  }
 },
 "nbformat": 4,
 "nbformat_minor": 4
}
