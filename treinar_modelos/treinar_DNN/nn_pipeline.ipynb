{
 "cells": [
  {
   "cell_type": "markdown",
   "metadata": {},
   "source": [
    "# Pipeline de Treinamento DNN para Detecção de Texto\n",
    "## (AI vs Human) - Multi Dataset"
   ]
  },
  {
   "cell_type": "code",
   "execution_count": 2,
   "metadata": {},
   "outputs": [],
   "source": [
    "import pandas as pd\n",
    "import os\n",
    "import pickle\n",
    "from sklearn.feature_extraction.text import TfidfVectorizer\n",
    "from sklearn.metrics import classification_report, confusion_matrix\n",
    "from nn import NeuralNetwork  # Importação correta do modelo DNN"
   ]
  },
  {
   "cell_type": "markdown",
   "metadata": {},
   "source": [
    "## Função para Carregar Datasets"
   ]
  },
  {
   "cell_type": "code",
   "execution_count": 3,
   "metadata": {},
   "outputs": [],
   "source": [
    "def load_dataset(dataset_version):\n",
    "    base_path = f'../../datasets/{dataset_version}/'\n",
    "    train_file = f'Dataset{dataset_version}_train_clean.csv'\n",
    "    test_file = f'Dataset{dataset_version}_test_clean.csv'\n",
    "    \n",
    "    train = pd.read_csv(os.path.join(base_path, train_file), sep=',')\n",
    "    test = pd.read_csv(os.path.join(base_path, test_file), sep=',')\n",
    "    \n",
    "    return train, test"
   ]
  },
  {
   "cell_type": "markdown",
   "metadata": {},
   "source": [
    "## Pré-processamento com TF-IDF (Igual ao Original)"
   ]
  },
  {
   "cell_type": "code",
   "execution_count": 4,
   "metadata": {},
   "outputs": [],
   "source": [
    "def tfidf_preprocessing(train, test):\n",
    "    tfidf = TfidfVectorizer(max_features=1000, stop_words='english')\n",
    "    X_train = tfidf.fit_transform(train['text']).toarray()\n",
    "    X_test = tfidf.transform(test['text']).toarray()\n",
    "    \n",
    "    y_train = train['Label'].map({'AI':1, 'Human':0}).values\n",
    "    y_test = test['Label'].map({'AI':1, 'Human':0}).values\n",
    "    \n",
    "    return X_train, y_train, X_test, y_test, tfidf"
   ]
  },
  {
   "cell_type": "markdown",
   "metadata": {},
   "source": [
    "## Função de Treinamento da DNN (Ajustada)"
   ]
  },
  {
   "cell_type": "code",
   "execution_count": 5,
   "metadata": {},
   "outputs": [],
   "source": [
    "def train_evaluate_dnn(X_train, y_train, X_test, y_test, input_size):\n",
    "    print(\"\\nIniciando treinamento da DNN...\")\n",
    "    \n",
    "    # Hiperparâmetros do código original\n",
    "    nn = NeuralNetwork(\n",
    "        input_size=input_size,\n",
    "        hidden_size=64,\n",
    "        output_size=1,\n",
    "        lr=1,\n",
    "        dropout_rate=0.2\n",
    "    )\n",
    "    \n",
    "    nn.train(X_train, y_train, epochs=100)\n",
    "    \n",
    "    # Avaliação\n",
    "    preds = nn.predict(X_test)\n",
    "    print(\"\\nRelatório de Classificação:\")\n",
    "    print(classification_report(y_test, preds))\n",
    "    print(\"Matriz de Confusão:\")\n",
    "    print(confusion_matrix(y_test, preds))\n",
    "    \n",
    "    return nn"
   ]
  },
  {
   "cell_type": "markdown",
   "metadata": {},
   "source": [
    "## Pipeline Principal (Corrigido)"
   ]
  },
  {
   "cell_type": "code",
   "execution_count": 6,
   "metadata": {},
   "outputs": [
    {
     "name": "stdout",
     "output_type": "stream",
     "text": [
      "\n",
      "Iniciando treinamento da DNN...\n",
      "Epoch 0: Loss = 0.6931465786714627, Accuracy = 49.97%\n",
      "Epoch 99: Loss = 0.6928772436053634, Accuracy = 63.76%\n",
      "\n",
      "Relatório de Classificação:\n",
      "              precision    recall  f1-score   support\n",
      "\n",
      "           0       0.63      0.70      0.66     22500\n",
      "           1       0.66      0.58      0.62     22500\n",
      "\n",
      "    accuracy                           0.64     45000\n",
      "   macro avg       0.64      0.64      0.64     45000\n",
      "weighted avg       0.64      0.64      0.64     45000\n",
      "\n",
      "Matriz de Confusão:\n",
      "[[15734  6766]\n",
      " [ 9433 13067]]\n",
      "\n",
      "Pipeline concluído! Modelos salvos em 'modelos_dnn/'.\n"
     ]
    }
   ],
   "source": [
    "# Configurações\n",
    "DATASET_VERSION = 4  # Altere para 3, 5, 6, etc.\n",
    "SAVE_DIR = 'modelos_dnn/'\n",
    "os.makedirs(SAVE_DIR, exist_ok=True)\n",
    "\n",
    "# Passo 1: Carregar dados\n",
    "train, test = load_dataset(DATASET_VERSION)\n",
    "\n",
    "# Passo 2: Pré-processamento\n",
    "X_train, y_train, X_test, y_test, tfidf = tfidf_preprocessing(train, test)\n",
    "\n",
    "# Passo 3: Treinar DNN\n",
    "dnn_model = train_evaluate_dnn(X_train, y_train, X_test, y_test, input_size=X_train.shape[1])\n",
    "\n",
    "# Passo 4: Salvar modelo\n",
    "with open(f'{SAVE_DIR}dnn_dataset{DATASET_VERSION}.pkl', 'wb') as f:\n",
    "    pickle.dump(dnn_model, f)\n",
    "with open(f'{SAVE_DIR}tfidf_dataset{DATASET_VERSION}.pkl', 'wb') as f:\n",
    "    pickle.dump(tfidf, f)\n",
    "\n",
    "print(\"\\nPipeline concluído! Modelos salvos em 'modelos_dnn/'.\")"
   ]
  }
 ],
 "metadata": {
  "kernelspec": {
   "display_name": "DeepL",
   "language": "python",
   "name": "python3"
  },
  "language_info": {
   "codemirror_mode": {
    "name": "ipython",
    "version": 3
   },
   "file_extension": ".py",
   "mimetype": "text/x-python",
   "name": "python",
   "nbconvert_exporter": "python",
   "pygments_lexer": "ipython3",
   "version": "3.12.2"
  }
 },
 "nbformat": 4,
 "nbformat_minor": 2
}
