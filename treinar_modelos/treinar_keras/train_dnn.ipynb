{
 "cells": [
  {
   "cell_type": "code",
   "execution_count": 120,
   "metadata": {},
   "outputs": [
    {
     "name": "stdout",
     "output_type": "stream",
     "text": [
      "The autoreload extension is already loaded. To reload it, use:\n",
      "  %reload_ext autoreload\n"
     ]
    }
   ],
   "source": [
    "# autoreload .py files\n",
    "%load_ext autoreload\n",
    "%autoreload 2  \n",
    "import utility\n",
    "\n",
    "from utility import load_dataset,tfidf_preprocessing,keras_text_preprocessing\n",
    "from sklearn.feature_extraction.text import TfidfVectorizer\n",
    "import pandas as pd\n",
    "import numpy as np\n",
    "import tensorflow as tf\n"
   ]
  },
  {
   "cell_type": "code",
   "execution_count": 51,
   "metadata": {},
   "outputs": [],
   "source": [
    "train, test, val = load_dataset(4)"
   ]
  },
  {
   "cell_type": "code",
   "execution_count": null,
   "metadata": {},
   "outputs": [],
   "source": [
    "from tensorflow.keras.layers import TextVectorization\n",
    "max_tokens = 5000  # Maximum vocab size.\n",
    "max_len = 256  # Sequence length to pad the outputs to.\n",
    "batch_size = 256*2\n",
    "\n",
    "# Create the layer.\n",
    "text_vectorization = TextVectorization(\n",
    "    output_mode=\"int\", # \"int\" indexs , \"multi_hot\" ,\n",
    "    max_tokens = max_tokens,  # Maximum vocab size.\n",
    "    output_sequence_length=max_len,\n",
    "        #\"count\"  Like \"multi_hot\", but the int array contains a count of the number of times the token at that index appeared in the batch item.\n",
    "    standardize = \"lower_and_strip_punctuation\",\n",
    "        #\"pad_to_max_tokens\" output \n",
    "        # \n",
    " #  (batch_size, max_len)\n",
    "\n",
    ")\n",
    "text_vectorization = TextVectorization(\n",
    "    output_mode=\"multi_hot\", # \"int\" indexs , \"multi_hot\" ,\n",
    "    max_tokens = max_len,   # output  (batch_size, max_tokens)\n",
    "        #\"count\"  Like \"multi_hot\", but the int array contains a count of the number of times the token at that index appeared in the batch item.\n",
    "    standardize = \"lower_and_strip_punctuation\",\n",
    "   #  pad_to_max_tokens = max_len # output  (batch_size, max_tokens)\n",
    "\n",
    ")\n"
   ]
  },
  {
   "cell_type": "code",
   "execution_count": 105,
   "metadata": {},
   "outputs": [],
   "source": [
    "\n",
    "tf_train,tf_test,tf_val = keras_text_preprocessing(train,test,val,text_vectorization,batch_size)"
   ]
  },
  {
   "cell_type": "code",
   "execution_count": 106,
   "metadata": {},
   "outputs": [
    {
     "data": {
      "text/plain": [
       "['[UNK]',\n",
       " np.str_('the'),\n",
       " np.str_('of'),\n",
       " np.str_('in'),\n",
       " np.str_('and'),\n",
       " np.str_('a'),\n",
       " np.str_('to'),\n",
       " np.str_('was'),\n",
       " np.str_('is'),\n",
       " np.str_('he'),\n",
       " np.str_('as'),\n",
       " np.str_('for'),\n",
       " np.str_('on'),\n",
       " np.str_('by'),\n",
       " np.str_('with'),\n",
       " np.str_('his'),\n",
       " np.str_('at'),\n",
       " np.str_('from'),\n",
       " np.str_('it'),\n",
       " np.str_('an'),\n",
       " np.str_('that'),\n",
       " np.str_('has'),\n",
       " np.str_('also'),\n",
       " np.str_('are'),\n",
       " np.str_('which'),\n",
       " np.str_('born'),\n",
       " np.str_('she'),\n",
       " np.str_('or'),\n",
       " np.str_('first'),\n",
       " np.str_('her'),\n",
       " np.str_('who'),\n",
       " np.str_('its'),\n",
       " np.str_('one'),\n",
       " np.str_('university'),\n",
       " np.str_('after'),\n",
       " np.str_('new'),\n",
       " np.str_('been'),\n",
       " np.str_('their'),\n",
       " np.str_('be'),\n",
       " np.str_('were'),\n",
       " np.str_('american'),\n",
       " np.str_('known'),\n",
       " np.str_('two'),\n",
       " np.str_('this'),\n",
       " np.str_('but'),\n",
       " np.str_('they'),\n",
       " np.str_('where'),\n",
       " np.str_('including'),\n",
       " np.str_('had'),\n",
       " np.str_('during'),\n",
       " np.str_('most'),\n",
       " np.str_('school'),\n",
       " np.str_('have'),\n",
       " np.str_('album'),\n",
       " np.str_('other'),\n",
       " np.str_('became'),\n",
       " np.str_('united'),\n",
       " np.str_('film'),\n",
       " np.str_('–'),\n",
       " np.str_('world'),\n",
       " np.str_('city'),\n",
       " np.str_('states'),\n",
       " np.str_('when'),\n",
       " np.str_('early'),\n",
       " np.str_('served'),\n",
       " np.str_('used'),\n",
       " np.str_('then'),\n",
       " np.str_('years'),\n",
       " np.str_('released'),\n",
       " np.str_('music'),\n",
       " np.str_('into'),\n",
       " np.str_('national'),\n",
       " np.str_('over'),\n",
       " np.str_('work'),\n",
       " np.str_('may'),\n",
       " np.str_('such'),\n",
       " np.str_('career'),\n",
       " np.str_('not'),\n",
       " np.str_('made'),\n",
       " np.str_('family'),\n",
       " np.str_('can'),\n",
       " np.str_('time'),\n",
       " np.str_('about'),\n",
       " np.str_('played'),\n",
       " np.str_('later'),\n",
       " np.str_('war'),\n",
       " np.str_('between'),\n",
       " np.str_('more'),\n",
       " np.str_('history'),\n",
       " np.str_('series'),\n",
       " np.str_('until'),\n",
       " np.str_('since'),\n",
       " np.str_('before'),\n",
       " np.str_('there'),\n",
       " np.str_('several'),\n",
       " np.str_('began'),\n",
       " np.str_('state'),\n",
       " np.str_('number'),\n",
       " np.str_('up'),\n",
       " np.str_('all'),\n",
       " np.str_('name'),\n",
       " np.str_('part'),\n",
       " np.str_('life'),\n",
       " np.str_('three'),\n",
       " np.str_('located'),\n",
       " np.str_('south'),\n",
       " np.str_('north'),\n",
       " np.str_('best'),\n",
       " np.str_('october'),\n",
       " np.str_('many'),\n",
       " np.str_('member'),\n",
       " np.str_('college'),\n",
       " np.str_('york'),\n",
       " np.str_('second'),\n",
       " np.str_('people'),\n",
       " np.str_('well'),\n",
       " np.str_('year'),\n",
       " np.str_('only'),\n",
       " np.str_('company'),\n",
       " np.str_('died'),\n",
       " np.str_('group'),\n",
       " np.str_('both'),\n",
       " np.str_('under'),\n",
       " np.str_('high'),\n",
       " np.str_('while'),\n",
       " np.str_('some'),\n",
       " np.str_('de'),\n",
       " np.str_('won'),\n",
       " np.str_('age'),\n",
       " np.str_('band'),\n",
       " np.str_('area'),\n",
       " np.str_('through'),\n",
       " np.str_('british'),\n",
       " np.str_('being'),\n",
       " np.str_('than'),\n",
       " np.str_('received'),\n",
       " np.str_('league'),\n",
       " np.str_('january'),\n",
       " np.str_('john'),\n",
       " np.str_('team'),\n",
       " np.str_('small'),\n",
       " np.str_('house'),\n",
       " np.str_('town'),\n",
       " np.str_('long'),\n",
       " np.str_('december'),\n",
       " np.str_('september'),\n",
       " np.str_('march'),\n",
       " np.str_('century'),\n",
       " np.str_('county'),\n",
       " np.str_('english'),\n",
       " np.str_('him'),\n",
       " np.str_('november'),\n",
       " np.str_('football'),\n",
       " np.str_('founded'),\n",
       " np.str_('television'),\n",
       " np.str_('us'),\n",
       " np.str_('river'),\n",
       " np.str_('2006'),\n",
       " np.str_('species'),\n",
       " np.str_('around'),\n",
       " np.str_('season'),\n",
       " np.str_('debut'),\n",
       " np.str_('moved'),\n",
       " np.str_('named'),\n",
       " np.str_('july'),\n",
       " np.str_('worked'),\n",
       " np.str_('song'),\n",
       " np.str_('found'),\n",
       " np.str_('built'),\n",
       " np.str_('art'),\n",
       " np.str_('professor'),\n",
       " np.str_('against'),\n",
       " np.str_('international'),\n",
       " np.str_('february'),\n",
       " np.str_('west'),\n",
       " np.str_('often'),\n",
       " np.str_('i'),\n",
       " np.str_('son'),\n",
       " np.str_('game'),\n",
       " np.str_('four'),\n",
       " np.str_('club'),\n",
       " np.str_('district'),\n",
       " np.str_('2009'),\n",
       " np.str_('studied'),\n",
       " np.str_('1'),\n",
       " np.str_('these'),\n",
       " np.str_('home'),\n",
       " np.str_('out'),\n",
       " np.str_('major'),\n",
       " np.str_('written'),\n",
       " np.str_('london'),\n",
       " np.str_('based'),\n",
       " np.str_('called'),\n",
       " np.str_('published'),\n",
       " np.str_('california'),\n",
       " np.str_('east'),\n",
       " np.str_('former'),\n",
       " np.str_('father'),\n",
       " np.str_('single'),\n",
       " np.str_('now'),\n",
       " np.str_('produced'),\n",
       " np.str_('2007'),\n",
       " np.str_('use'),\n",
       " np.str_('would'),\n",
       " np.str_('general'),\n",
       " np.str_('2'),\n",
       " np.str_('them'),\n",
       " np.str_('research'),\n",
       " np.str_('award'),\n",
       " np.str_('august'),\n",
       " np.str_('april'),\n",
       " np.str_('president'),\n",
       " np.str_('public'),\n",
       " np.str_('june'),\n",
       " np.str_('system'),\n",
       " np.str_('law'),\n",
       " np.str_('however'),\n",
       " np.str_('french'),\n",
       " np.str_('10'),\n",
       " np.str_('role'),\n",
       " np.str_('professional'),\n",
       " np.str_('following'),\n",
       " np.str_('no'),\n",
       " np.str_('church'),\n",
       " np.str_('england'),\n",
       " np.str_('death'),\n",
       " np.str_('2013'),\n",
       " np.str_('education'),\n",
       " np.str_('attended'),\n",
       " np.str_('government'),\n",
       " np.str_('player'),\n",
       " np.str_('book'),\n",
       " np.str_('village'),\n",
       " np.str_('2010'),\n",
       " np.str_('include'),\n",
       " np.str_('academy'),\n",
       " np.str_('royal'),\n",
       " np.str_('development'),\n",
       " np.str_('important'),\n",
       " np.str_('ii'),\n",
       " np.str_('army'),\n",
       " np.str_('works'),\n",
       " np.str_('large'),\n",
       " np.str_('films'),\n",
       " np.str_('director'),\n",
       " np.str_('late'),\n",
       " np.str_('each'),\n",
       " np.str_('station'),\n",
       " np.str_('2002'),\n",
       " np.str_('degree'),\n",
       " np.str_('main'),\n",
       " np.str_('started'),\n",
       " np.str_('3'),\n",
       " np.str_('german'),\n",
       " np.str_('white'),\n",
       " np.str_('rock')]"
      ]
     },
     "execution_count": 106,
     "metadata": {},
     "output_type": "execute_result"
    }
   ],
   "source": [
    "text_vectorization.get_vocabulary()"
   ]
  },
  {
   "cell_type": "code",
   "execution_count": null,
   "metadata": {},
   "outputs": [
    {
     "name": "stdout",
     "output_type": "stream",
     "text": [
      "inputs.shape: (512, 256)\n",
      "inputs.dtype: <dtype: 'int64'>\n",
      "targets.shape: (512,)\n",
      "targets.dtype: <dtype: 'int64'>\n",
      "inputs[0]: tf.Tensor(\n",
      "[1 1 1 1 1 1 1 1 0 1 1 0 0 0 1 1 1 0 0 0 1 0 0 0 1 0 0 1 0 0 0 0 1 0 0 0 0\n",
      " 0 0 0 0 0 0 0 1 0 0 0 1 0 0 0 0 0 0 0 0 0 1 0 0 0 1 0 0 0 1 0 0 0 1 0 0 0\n",
      " 0 0 0 0 0 0 0 0 0 0 1 0 0 0 0 0 0 0 0 0 0 0 0 0 1 0 0 0 1 0 0 0 0 0 1 0 0\n",
      " 0 0 0 0 0 0 0 0 0 0 0 0 0 0 1 0 0 0 0 0 1 0 0 0 0 0 0 0 0 0 1 0 0 0 0 0 0\n",
      " 0 0 1 1 0 0 0 0 0 0 0 0 0 0 0 0 0 0 0 1 0 0 0 0 0 0 0 0 0 0 0 0 0 0 0 0 0\n",
      " 0 0 0 0 0 0 0 0 1 0 0 0 0 0 0 0 0 0 0 0 0 0 0 0 0 0 0 0 0 0 0 0 0 0 0 0 0\n",
      " 0 0 0 1 0 0 0 0 0 0 0 0 0 0 0 0 0 0 0 0 0 0 0 0 0 0 0 0 0 0 0 0 0 0], shape=(256,), dtype=int64)\n",
      "targets[0]: tf.Tensor(0, shape=(), dtype=int64)\n"
     ]
    }
   ],
   "source": [
    "# inputs.shape: (32, 64)\n",
    "# inputs.shape: (batch_size, max_len)\n",
    "for inputs, targets in tf_train:\n",
    "    print(\"inputs.shape:\", inputs.shape)\n",
    "    print(\"inputs.dtype:\", inputs.dtype)\n",
    "    print(\"targets.shape:\", targets.shape)\n",
    "    print(\"targets.dtype:\", targets.dtype)\n",
    "  #  print(\"inputs[0]:\", inputs[0])\n",
    "  #  print(\"targets[0]:\", targets[0])\n",
    "    break"
   ]
  },
  {
   "cell_type": "code",
   "execution_count": 132,
   "metadata": {},
   "outputs": [
    {
     "name": "stdout",
     "output_type": "stream",
     "text": [
      "64\n",
      "32\n",
      "16\n"
     ]
    },
    {
     "data": {
      "text/html": [
       "<pre style=\"white-space:pre;overflow-x:auto;line-height:normal;font-family:Menlo,'DejaVu Sans Mono',consolas,'Courier New',monospace\"><span style=\"font-weight: bold\">Model: \"functional_17\"</span>\n",
       "</pre>\n"
      ],
      "text/plain": [
       "\u001b[1mModel: \"functional_17\"\u001b[0m\n"
      ]
     },
     "metadata": {},
     "output_type": "display_data"
    },
    {
     "data": {
      "text/html": [
       "<pre style=\"white-space:pre;overflow-x:auto;line-height:normal;font-family:Menlo,'DejaVu Sans Mono',consolas,'Courier New',monospace\">┏━━━━━━━━━━━━━━━━━━━━━━━━━━━━━━━━━┳━━━━━━━━━━━━━━━━━━━━━━━━┳━━━━━━━━━━━━━━━┓\n",
       "┃<span style=\"font-weight: bold\"> Layer (type)                    </span>┃<span style=\"font-weight: bold\"> Output Shape           </span>┃<span style=\"font-weight: bold\">       Param # </span>┃\n",
       "┡━━━━━━━━━━━━━━━━━━━━━━━━━━━━━━━━━╇━━━━━━━━━━━━━━━━━━━━━━━━╇━━━━━━━━━━━━━━━┩\n",
       "│ input_layer_17 (<span style=\"color: #0087ff; text-decoration-color: #0087ff\">InputLayer</span>)     │ (<span style=\"color: #00d7ff; text-decoration-color: #00d7ff\">None</span>, <span style=\"color: #00af00; text-decoration-color: #00af00\">256</span>)            │             <span style=\"color: #00af00; text-decoration-color: #00af00\">0</span> │\n",
       "├─────────────────────────────────┼────────────────────────┼───────────────┤\n",
       "│ dense_54 (<span style=\"color: #0087ff; text-decoration-color: #0087ff\">Dense</span>)                │ (<span style=\"color: #00d7ff; text-decoration-color: #00d7ff\">None</span>, <span style=\"color: #00af00; text-decoration-color: #00af00\">64</span>)             │        <span style=\"color: #00af00; text-decoration-color: #00af00\">16,448</span> │\n",
       "├─────────────────────────────────┼────────────────────────┼───────────────┤\n",
       "│ dropout_37 (<span style=\"color: #0087ff; text-decoration-color: #0087ff\">Dropout</span>)            │ (<span style=\"color: #00d7ff; text-decoration-color: #00d7ff\">None</span>, <span style=\"color: #00af00; text-decoration-color: #00af00\">64</span>)             │             <span style=\"color: #00af00; text-decoration-color: #00af00\">0</span> │\n",
       "├─────────────────────────────────┼────────────────────────┼───────────────┤\n",
       "│ dense_55 (<span style=\"color: #0087ff; text-decoration-color: #0087ff\">Dense</span>)                │ (<span style=\"color: #00d7ff; text-decoration-color: #00d7ff\">None</span>, <span style=\"color: #00af00; text-decoration-color: #00af00\">32</span>)             │         <span style=\"color: #00af00; text-decoration-color: #00af00\">2,080</span> │\n",
       "├─────────────────────────────────┼────────────────────────┼───────────────┤\n",
       "│ dropout_38 (<span style=\"color: #0087ff; text-decoration-color: #0087ff\">Dropout</span>)            │ (<span style=\"color: #00d7ff; text-decoration-color: #00d7ff\">None</span>, <span style=\"color: #00af00; text-decoration-color: #00af00\">32</span>)             │             <span style=\"color: #00af00; text-decoration-color: #00af00\">0</span> │\n",
       "├─────────────────────────────────┼────────────────────────┼───────────────┤\n",
       "│ dense_56 (<span style=\"color: #0087ff; text-decoration-color: #0087ff\">Dense</span>)                │ (<span style=\"color: #00d7ff; text-decoration-color: #00d7ff\">None</span>, <span style=\"color: #00af00; text-decoration-color: #00af00\">16</span>)             │           <span style=\"color: #00af00; text-decoration-color: #00af00\">528</span> │\n",
       "├─────────────────────────────────┼────────────────────────┼───────────────┤\n",
       "│ dropout_39 (<span style=\"color: #0087ff; text-decoration-color: #0087ff\">Dropout</span>)            │ (<span style=\"color: #00d7ff; text-decoration-color: #00d7ff\">None</span>, <span style=\"color: #00af00; text-decoration-color: #00af00\">16</span>)             │             <span style=\"color: #00af00; text-decoration-color: #00af00\">0</span> │\n",
       "├─────────────────────────────────┼────────────────────────┼───────────────┤\n",
       "│ dense_57 (<span style=\"color: #0087ff; text-decoration-color: #0087ff\">Dense</span>)                │ (<span style=\"color: #00d7ff; text-decoration-color: #00d7ff\">None</span>, <span style=\"color: #00af00; text-decoration-color: #00af00\">1</span>)              │            <span style=\"color: #00af00; text-decoration-color: #00af00\">17</span> │\n",
       "└─────────────────────────────────┴────────────────────────┴───────────────┘\n",
       "</pre>\n"
      ],
      "text/plain": [
       "┏━━━━━━━━━━━━━━━━━━━━━━━━━━━━━━━━━┳━━━━━━━━━━━━━━━━━━━━━━━━┳━━━━━━━━━━━━━━━┓\n",
       "┃\u001b[1m \u001b[0m\u001b[1mLayer (type)                   \u001b[0m\u001b[1m \u001b[0m┃\u001b[1m \u001b[0m\u001b[1mOutput Shape          \u001b[0m\u001b[1m \u001b[0m┃\u001b[1m \u001b[0m\u001b[1m      Param #\u001b[0m\u001b[1m \u001b[0m┃\n",
       "┡━━━━━━━━━━━━━━━━━━━━━━━━━━━━━━━━━╇━━━━━━━━━━━━━━━━━━━━━━━━╇━━━━━━━━━━━━━━━┩\n",
       "│ input_layer_17 (\u001b[38;5;33mInputLayer\u001b[0m)     │ (\u001b[38;5;45mNone\u001b[0m, \u001b[38;5;34m256\u001b[0m)            │             \u001b[38;5;34m0\u001b[0m │\n",
       "├─────────────────────────────────┼────────────────────────┼───────────────┤\n",
       "│ dense_54 (\u001b[38;5;33mDense\u001b[0m)                │ (\u001b[38;5;45mNone\u001b[0m, \u001b[38;5;34m64\u001b[0m)             │        \u001b[38;5;34m16,448\u001b[0m │\n",
       "├─────────────────────────────────┼────────────────────────┼───────────────┤\n",
       "│ dropout_37 (\u001b[38;5;33mDropout\u001b[0m)            │ (\u001b[38;5;45mNone\u001b[0m, \u001b[38;5;34m64\u001b[0m)             │             \u001b[38;5;34m0\u001b[0m │\n",
       "├─────────────────────────────────┼────────────────────────┼───────────────┤\n",
       "│ dense_55 (\u001b[38;5;33mDense\u001b[0m)                │ (\u001b[38;5;45mNone\u001b[0m, \u001b[38;5;34m32\u001b[0m)             │         \u001b[38;5;34m2,080\u001b[0m │\n",
       "├─────────────────────────────────┼────────────────────────┼───────────────┤\n",
       "│ dropout_38 (\u001b[38;5;33mDropout\u001b[0m)            │ (\u001b[38;5;45mNone\u001b[0m, \u001b[38;5;34m32\u001b[0m)             │             \u001b[38;5;34m0\u001b[0m │\n",
       "├─────────────────────────────────┼────────────────────────┼───────────────┤\n",
       "│ dense_56 (\u001b[38;5;33mDense\u001b[0m)                │ (\u001b[38;5;45mNone\u001b[0m, \u001b[38;5;34m16\u001b[0m)             │           \u001b[38;5;34m528\u001b[0m │\n",
       "├─────────────────────────────────┼────────────────────────┼───────────────┤\n",
       "│ dropout_39 (\u001b[38;5;33mDropout\u001b[0m)            │ (\u001b[38;5;45mNone\u001b[0m, \u001b[38;5;34m16\u001b[0m)             │             \u001b[38;5;34m0\u001b[0m │\n",
       "├─────────────────────────────────┼────────────────────────┼───────────────┤\n",
       "│ dense_57 (\u001b[38;5;33mDense\u001b[0m)                │ (\u001b[38;5;45mNone\u001b[0m, \u001b[38;5;34m1\u001b[0m)              │            \u001b[38;5;34m17\u001b[0m │\n",
       "└─────────────────────────────────┴────────────────────────┴───────────────┘\n"
      ]
     },
     "metadata": {},
     "output_type": "display_data"
    },
    {
     "data": {
      "text/html": [
       "<pre style=\"white-space:pre;overflow-x:auto;line-height:normal;font-family:Menlo,'DejaVu Sans Mono',consolas,'Courier New',monospace\"><span style=\"font-weight: bold\"> Total params: </span><span style=\"color: #00af00; text-decoration-color: #00af00\">19,073</span> (74.50 KB)\n",
       "</pre>\n"
      ],
      "text/plain": [
       "\u001b[1m Total params: \u001b[0m\u001b[38;5;34m19,073\u001b[0m (74.50 KB)\n"
      ]
     },
     "metadata": {},
     "output_type": "display_data"
    },
    {
     "data": {
      "text/html": [
       "<pre style=\"white-space:pre;overflow-x:auto;line-height:normal;font-family:Menlo,'DejaVu Sans Mono',consolas,'Courier New',monospace\"><span style=\"font-weight: bold\"> Trainable params: </span><span style=\"color: #00af00; text-decoration-color: #00af00\">19,073</span> (74.50 KB)\n",
       "</pre>\n"
      ],
      "text/plain": [
       "\u001b[1m Trainable params: \u001b[0m\u001b[38;5;34m19,073\u001b[0m (74.50 KB)\n"
      ]
     },
     "metadata": {},
     "output_type": "display_data"
    },
    {
     "data": {
      "text/html": [
       "<pre style=\"white-space:pre;overflow-x:auto;line-height:normal;font-family:Menlo,'DejaVu Sans Mono',consolas,'Courier New',monospace\"><span style=\"font-weight: bold\"> Non-trainable params: </span><span style=\"color: #00af00; text-decoration-color: #00af00\">0</span> (0.00 B)\n",
       "</pre>\n"
      ],
      "text/plain": [
       "\u001b[1m Non-trainable params: \u001b[0m\u001b[38;5;34m0\u001b[0m (0.00 B)\n"
      ]
     },
     "metadata": {},
     "output_type": "display_data"
    },
    {
     "name": "stdout",
     "output_type": "stream",
     "text": [
      "Epoch 1/50\n",
      "\u001b[1m411/411\u001b[0m \u001b[32m━━━━━━━━━━━━━━━━━━━━\u001b[0m\u001b[37m\u001b[0m \u001b[1m4s\u001b[0m 6ms/step - accuracy: 0.6013 - loss: 0.6561 - val_accuracy: 0.7974 - val_loss: 0.4811\n",
      "Epoch 2/50\n",
      "\u001b[1m411/411\u001b[0m \u001b[32m━━━━━━━━━━━━━━━━━━━━\u001b[0m\u001b[37m\u001b[0m \u001b[1m1s\u001b[0m 3ms/step - accuracy: 0.7667 - loss: 0.5070 - val_accuracy: 0.8245 - val_loss: 0.4103\n",
      "Epoch 3/50\n",
      "\u001b[1m411/411\u001b[0m \u001b[32m━━━━━━━━━━━━━━━━━━━━\u001b[0m\u001b[37m\u001b[0m \u001b[1m-2s\u001b[0m -4820us/step - accuracy: 0.8039 - loss: 0.4474 - val_accuracy: 0.8323 - val_loss: 0.3859\n",
      "Epoch 4/50\n",
      "\u001b[1m411/411\u001b[0m \u001b[32m━━━━━━━━━━━━━━━━━━━━\u001b[0m\u001b[37m\u001b[0m \u001b[1m1s\u001b[0m 2ms/step - accuracy: 0.8169 - loss: 0.4228 - val_accuracy: 0.8383 - val_loss: 0.3739\n",
      "Epoch 5/50\n",
      "\u001b[1m411/411\u001b[0m \u001b[32m━━━━━━━━━━━━━━━━━━━━\u001b[0m\u001b[37m\u001b[0m \u001b[1m1s\u001b[0m 3ms/step - accuracy: 0.8238 - loss: 0.4069 - val_accuracy: 0.8415 - val_loss: 0.3650\n",
      "Epoch 6/50\n",
      "\u001b[1m411/411\u001b[0m \u001b[32m━━━━━━━━━━━━━━━━━━━━\u001b[0m\u001b[37m\u001b[0m \u001b[1m1s\u001b[0m 2ms/step - accuracy: 0.8304 - loss: 0.3941 - val_accuracy: 0.8453 - val_loss: 0.3571\n",
      "Epoch 7/50\n",
      "\u001b[1m411/411\u001b[0m \u001b[32m━━━━━━━━━━━━━━━━━━━━\u001b[0m\u001b[37m\u001b[0m \u001b[1m1s\u001b[0m 2ms/step - accuracy: 0.8353 - loss: 0.3844 - val_accuracy: 0.8487 - val_loss: 0.3498\n",
      "Epoch 8/50\n",
      "\u001b[1m411/411\u001b[0m \u001b[32m━━━━━━━━━━━━━━━━━━━━\u001b[0m\u001b[37m\u001b[0m \u001b[1m1s\u001b[0m 2ms/step - accuracy: 0.8386 - loss: 0.3757 - val_accuracy: 0.8523 - val_loss: 0.3430\n",
      "Epoch 9/50\n",
      "\u001b[1m411/411\u001b[0m \u001b[32m━━━━━━━━━━━━━━━━━━━━\u001b[0m\u001b[37m\u001b[0m \u001b[1m1s\u001b[0m 3ms/step - accuracy: 0.8423 - loss: 0.3683 - val_accuracy: 0.8561 - val_loss: 0.3371\n",
      "Epoch 10/50\n",
      "\u001b[1m411/411\u001b[0m \u001b[32m━━━━━━━━━━━━━━━━━━━━\u001b[0m\u001b[37m\u001b[0m \u001b[1m1s\u001b[0m 3ms/step - accuracy: 0.8461 - loss: 0.3609 - val_accuracy: 0.8587 - val_loss: 0.3317\n",
      "Epoch 11/50\n",
      "\u001b[1m411/411\u001b[0m \u001b[32m━━━━━━━━━━━━━━━━━━━━\u001b[0m\u001b[37m\u001b[0m \u001b[1m1s\u001b[0m 3ms/step - accuracy: 0.8490 - loss: 0.3548 - val_accuracy: 0.8612 - val_loss: 0.3269\n",
      "Epoch 12/50\n",
      "\u001b[1m411/411\u001b[0m \u001b[32m━━━━━━━━━━━━━━━━━━━━\u001b[0m\u001b[37m\u001b[0m \u001b[1m1s\u001b[0m 2ms/step - accuracy: 0.8530 - loss: 0.3501 - val_accuracy: 0.8628 - val_loss: 0.3226\n",
      "Epoch 13/50\n",
      "\u001b[1m411/411\u001b[0m \u001b[32m━━━━━━━━━━━━━━━━━━━━\u001b[0m\u001b[37m\u001b[0m \u001b[1m1s\u001b[0m 2ms/step - accuracy: 0.8543 - loss: 0.3449 - val_accuracy: 0.8643 - val_loss: 0.3188\n",
      "Epoch 14/50\n",
      "\u001b[1m411/411\u001b[0m \u001b[32m━━━━━━━━━━━━━━━━━━━━\u001b[0m\u001b[37m\u001b[0m \u001b[1m1s\u001b[0m 3ms/step - accuracy: 0.8560 - loss: 0.3391 - val_accuracy: 0.8658 - val_loss: 0.3153\n",
      "Epoch 15/50\n",
      "\u001b[1m411/411\u001b[0m \u001b[32m━━━━━━━━━━━━━━━━━━━━\u001b[0m\u001b[37m\u001b[0m \u001b[1m1s\u001b[0m 2ms/step - accuracy: 0.8588 - loss: 0.3365 - val_accuracy: 0.8674 - val_loss: 0.3116\n",
      "Epoch 16/50\n",
      "\u001b[1m411/411\u001b[0m \u001b[32m━━━━━━━━━━━━━━━━━━━━\u001b[0m\u001b[37m\u001b[0m \u001b[1m1s\u001b[0m 2ms/step - accuracy: 0.8598 - loss: 0.3326 - val_accuracy: 0.8696 - val_loss: 0.3082\n",
      "Epoch 17/50\n",
      "\u001b[1m411/411\u001b[0m \u001b[32m━━━━━━━━━━━━━━━━━━━━\u001b[0m\u001b[37m\u001b[0m \u001b[1m1s\u001b[0m 2ms/step - accuracy: 0.8632 - loss: 0.3269 - val_accuracy: 0.8709 - val_loss: 0.3051\n",
      "Epoch 18/50\n",
      "\u001b[1m411/411\u001b[0m \u001b[32m━━━━━━━━━━━━━━━━━━━━\u001b[0m\u001b[37m\u001b[0m \u001b[1m1s\u001b[0m 2ms/step - accuracy: 0.8653 - loss: 0.3246 - val_accuracy: 0.8724 - val_loss: 0.3023\n",
      "Epoch 19/50\n",
      "\u001b[1m411/411\u001b[0m \u001b[32m━━━━━━━━━━━━━━━━━━━━\u001b[0m\u001b[37m\u001b[0m \u001b[1m1s\u001b[0m 2ms/step - accuracy: 0.8653 - loss: 0.3218 - val_accuracy: 0.8737 - val_loss: 0.2997\n",
      "Epoch 20/50\n",
      "\u001b[1m411/411\u001b[0m \u001b[32m━━━━━━━━━━━━━━━━━━━━\u001b[0m\u001b[37m\u001b[0m \u001b[1m1s\u001b[0m 2ms/step - accuracy: 0.8671 - loss: 0.3174 - val_accuracy: 0.8752 - val_loss: 0.2970\n",
      "Epoch 21/50\n",
      "\u001b[1m411/411\u001b[0m \u001b[32m━━━━━━━━━━━━━━━━━━━━\u001b[0m\u001b[37m\u001b[0m \u001b[1m1s\u001b[0m 2ms/step - accuracy: 0.8690 - loss: 0.3161 - val_accuracy: 0.8763 - val_loss: 0.2946\n",
      "Epoch 22/50\n",
      "\u001b[1m411/411\u001b[0m \u001b[32m━━━━━━━━━━━━━━━━━━━━\u001b[0m\u001b[37m\u001b[0m \u001b[1m1s\u001b[0m 3ms/step - accuracy: 0.8706 - loss: 0.3124 - val_accuracy: 0.8774 - val_loss: 0.2922\n",
      "Epoch 23/50\n",
      "\u001b[1m411/411\u001b[0m \u001b[32m━━━━━━━━━━━━━━━━━━━━\u001b[0m\u001b[37m\u001b[0m \u001b[1m1s\u001b[0m 3ms/step - accuracy: 0.8721 - loss: 0.3101 - val_accuracy: 0.8783 - val_loss: 0.2903\n",
      "Epoch 24/50\n",
      "\u001b[1m411/411\u001b[0m \u001b[32m━━━━━━━━━━━━━━━━━━━━\u001b[0m\u001b[37m\u001b[0m \u001b[1m1s\u001b[0m 3ms/step - accuracy: 0.8733 - loss: 0.3058 - val_accuracy: 0.8789 - val_loss: 0.2883\n",
      "Epoch 25/50\n",
      "\u001b[1m411/411\u001b[0m \u001b[32m━━━━━━━━━━━━━━━━━━━━\u001b[0m\u001b[37m\u001b[0m \u001b[1m1s\u001b[0m 3ms/step - accuracy: 0.8745 - loss: 0.3045 - val_accuracy: 0.8794 - val_loss: 0.2866\n",
      "Epoch 26/50\n",
      "\u001b[1m411/411\u001b[0m \u001b[32m━━━━━━━━━━━━━━━━━━━━\u001b[0m\u001b[37m\u001b[0m \u001b[1m1s\u001b[0m 3ms/step - accuracy: 0.8755 - loss: 0.3023 - val_accuracy: 0.8802 - val_loss: 0.2849\n",
      "Epoch 27/50\n",
      "\u001b[1m411/411\u001b[0m \u001b[32m━━━━━━━━━━━━━━━━━━━━\u001b[0m\u001b[37m\u001b[0m \u001b[1m1s\u001b[0m 3ms/step - accuracy: 0.8763 - loss: 0.2992 - val_accuracy: 0.8809 - val_loss: 0.2833\n",
      "Epoch 28/50\n",
      "\u001b[1m411/411\u001b[0m \u001b[32m━━━━━━━━━━━━━━━━━━━━\u001b[0m\u001b[37m\u001b[0m \u001b[1m1s\u001b[0m 3ms/step - accuracy: 0.8768 - loss: 0.2983 - val_accuracy: 0.8814 - val_loss: 0.2819\n",
      "Epoch 29/50\n",
      "\u001b[1m411/411\u001b[0m \u001b[32m━━━━━━━━━━━━━━━━━━━━\u001b[0m\u001b[37m\u001b[0m \u001b[1m1s\u001b[0m 3ms/step - accuracy: 0.8780 - loss: 0.2963 - val_accuracy: 0.8823 - val_loss: 0.2805\n",
      "Epoch 30/50\n",
      "\u001b[1m411/411\u001b[0m \u001b[32m━━━━━━━━━━━━━━━━━━━━\u001b[0m\u001b[37m\u001b[0m \u001b[1m1s\u001b[0m 3ms/step - accuracy: 0.8784 - loss: 0.2950 - val_accuracy: 0.8828 - val_loss: 0.2792\n",
      "Epoch 31/50\n",
      "\u001b[1m411/411\u001b[0m \u001b[32m━━━━━━━━━━━━━━━━━━━━\u001b[0m\u001b[37m\u001b[0m \u001b[1m1s\u001b[0m 3ms/step - accuracy: 0.8797 - loss: 0.2926 - val_accuracy: 0.8834 - val_loss: 0.2778\n",
      "Epoch 32/50\n",
      "\u001b[1m411/411\u001b[0m \u001b[32m━━━━━━━━━━━━━━━━━━━━\u001b[0m\u001b[37m\u001b[0m \u001b[1m1s\u001b[0m 3ms/step - accuracy: 0.8800 - loss: 0.2914 - val_accuracy: 0.8841 - val_loss: 0.2769\n",
      "Epoch 33/50\n",
      "\u001b[1m411/411\u001b[0m \u001b[32m━━━━━━━━━━━━━━━━━━━━\u001b[0m\u001b[37m\u001b[0m \u001b[1m-2s\u001b[0m -4263us/step - accuracy: 0.8807 - loss: 0.2897 - val_accuracy: 0.8840 - val_loss: 0.2759\n",
      "Epoch 34/50\n",
      "\u001b[1m411/411\u001b[0m \u001b[32m━━━━━━━━━━━━━━━━━━━━\u001b[0m\u001b[37m\u001b[0m \u001b[1m1s\u001b[0m 3ms/step - accuracy: 0.8818 - loss: 0.2863 - val_accuracy: 0.8853 - val_loss: 0.2748\n",
      "Epoch 35/50\n",
      "\u001b[1m411/411\u001b[0m \u001b[32m━━━━━━━━━━━━━━━━━━━━\u001b[0m\u001b[37m\u001b[0m \u001b[1m1s\u001b[0m 3ms/step - accuracy: 0.8825 - loss: 0.2856 - val_accuracy: 0.8851 - val_loss: 0.2739\n",
      "Epoch 36/50\n",
      "\u001b[1m411/411\u001b[0m \u001b[32m━━━━━━━━━━━━━━━━━━━━\u001b[0m\u001b[37m\u001b[0m \u001b[1m1s\u001b[0m 3ms/step - accuracy: 0.8835 - loss: 0.2850 - val_accuracy: 0.8858 - val_loss: 0.2730\n",
      "Epoch 37/50\n",
      "\u001b[1m411/411\u001b[0m \u001b[32m━━━━━━━━━━━━━━━━━━━━\u001b[0m\u001b[37m\u001b[0m \u001b[1m1s\u001b[0m 3ms/step - accuracy: 0.8829 - loss: 0.2841 - val_accuracy: 0.8859 - val_loss: 0.2722\n",
      "Epoch 38/50\n",
      "\u001b[1m411/411\u001b[0m \u001b[32m━━━━━━━━━━━━━━━━━━━━\u001b[0m\u001b[37m\u001b[0m \u001b[1m1s\u001b[0m 3ms/step - accuracy: 0.8852 - loss: 0.2802 - val_accuracy: 0.8865 - val_loss: 0.2715\n",
      "Epoch 39/50\n",
      "\u001b[1m411/411\u001b[0m \u001b[32m━━━━━━━━━━━━━━━━━━━━\u001b[0m\u001b[37m\u001b[0m \u001b[1m1s\u001b[0m 3ms/step - accuracy: 0.8849 - loss: 0.2815 - val_accuracy: 0.8865 - val_loss: 0.2707\n",
      "Epoch 40/50\n",
      "\u001b[1m411/411\u001b[0m \u001b[32m━━━━━━━━━━━━━━━━━━━━\u001b[0m\u001b[37m\u001b[0m \u001b[1m1s\u001b[0m 3ms/step - accuracy: 0.8857 - loss: 0.2804 - val_accuracy: 0.8864 - val_loss: 0.2699\n",
      "Epoch 41/50\n",
      "\u001b[1m411/411\u001b[0m \u001b[32m━━━━━━━━━━━━━━━━━━━━\u001b[0m\u001b[37m\u001b[0m \u001b[1m1s\u001b[0m 3ms/step - accuracy: 0.8863 - loss: 0.2784 - val_accuracy: 0.8870 - val_loss: 0.2692\n",
      "Epoch 42/50\n",
      "\u001b[1m411/411\u001b[0m \u001b[32m━━━━━━━━━━━━━━━━━━━━\u001b[0m\u001b[37m\u001b[0m \u001b[1m1s\u001b[0m 3ms/step - accuracy: 0.8859 - loss: 0.2787 - val_accuracy: 0.8876 - val_loss: 0.2687\n",
      "Epoch 43/50\n",
      "\u001b[1m411/411\u001b[0m \u001b[32m━━━━━━━━━━━━━━━━━━━━\u001b[0m\u001b[37m\u001b[0m \u001b[1m1s\u001b[0m 3ms/step - accuracy: 0.8869 - loss: 0.2766 - val_accuracy: 0.8872 - val_loss: 0.2683\n",
      "Epoch 44/50\n",
      "\u001b[1m411/411\u001b[0m \u001b[32m━━━━━━━━━━━━━━━━━━━━\u001b[0m\u001b[37m\u001b[0m \u001b[1m1s\u001b[0m 3ms/step - accuracy: 0.8874 - loss: 0.2749 - val_accuracy: 0.8880 - val_loss: 0.2678\n",
      "Epoch 45/50\n",
      "\u001b[1m411/411\u001b[0m \u001b[32m━━━━━━━━━━━━━━━━━━━━\u001b[0m\u001b[37m\u001b[0m \u001b[1m1s\u001b[0m 3ms/step - accuracy: 0.8878 - loss: 0.2734 - val_accuracy: 0.8884 - val_loss: 0.2672\n",
      "Epoch 46/50\n",
      "\u001b[1m411/411\u001b[0m \u001b[32m━━━━━━━━━━━━━━━━━━━━\u001b[0m\u001b[37m\u001b[0m \u001b[1m1s\u001b[0m 3ms/step - accuracy: 0.8881 - loss: 0.2740 - val_accuracy: 0.8887 - val_loss: 0.2667\n",
      "Epoch 47/50\n",
      "\u001b[1m411/411\u001b[0m \u001b[32m━━━━━━━━━━━━━━━━━━━━\u001b[0m\u001b[37m\u001b[0m \u001b[1m1s\u001b[0m 3ms/step - accuracy: 0.8898 - loss: 0.2719 - val_accuracy: 0.8888 - val_loss: 0.2661\n",
      "Epoch 48/50\n",
      "\u001b[1m411/411\u001b[0m \u001b[32m━━━━━━━━━━━━━━━━━━━━\u001b[0m\u001b[37m\u001b[0m \u001b[1m1s\u001b[0m 3ms/step - accuracy: 0.8895 - loss: 0.2710 - val_accuracy: 0.8892 - val_loss: 0.2655\n",
      "Epoch 49/50\n",
      "\u001b[1m411/411\u001b[0m \u001b[32m━━━━━━━━━━━━━━━━━━━━\u001b[0m\u001b[37m\u001b[0m \u001b[1m1s\u001b[0m 3ms/step - accuracy: 0.8900 - loss: 0.2717 - val_accuracy: 0.8896 - val_loss: 0.2652\n",
      "Epoch 50/50\n",
      "\u001b[1m411/411\u001b[0m \u001b[32m━━━━━━━━━━━━━━━━━━━━\u001b[0m\u001b[37m\u001b[0m \u001b[1m1s\u001b[0m 3ms/step - accuracy: 0.8912 - loss: 0.2692 - val_accuracy: 0.8898 - val_loss: 0.2649\n",
      "\u001b[1m88/88\u001b[0m \u001b[32m━━━━━━━━━━━━━━━━━━━━\u001b[0m\u001b[37m\u001b[0m \u001b[1m1s\u001b[0m 5ms/step - accuracy: 0.8883 - loss: 0.2683\n",
      "Test acc: 0.887\n"
     ]
    }
   ],
   "source": [
    "\n",
    "from tensorflow import keras\n",
    "\n",
    "\n",
    "model = utility.get_model(max_tokens= max_len, hidden_dims=[64,32,16])\n",
    "model.summary()\n",
    "\n",
    "early_stopping = keras.callbacks.EarlyStopping(\n",
    "    monitor=\"val_loss\",  # Stop if validation loss stops improving\n",
    "    patience=5,  # Number of epochs to wait before stopping\n",
    "    restore_best_weights=True  # Restore the best model weights after stopping\n",
    ")\n",
    "\n",
    "checkpoint_callback = keras.callbacks.ModelCheckpoint(\n",
    "    \"binary_1gram.keras\",\n",
    "    save_best_only=True,\n",
    "    monitor=\"val_loss\",\n",
    "    mode=\"min\"\n",
    ")\n",
    "callbacks = [ early_stopping ,\n",
    "    checkpoint_callback\n",
    "]\n",
    "\n",
    "history = model.fit(tf_train.cache(),\n",
    "          validation_data=tf_val.cache(),\n",
    "          epochs=50,\n",
    "          callbacks=callbacks)\n",
    "model = keras.models.load_model(\"binary_1gram.keras\")\n",
    "print(f\"Test acc: {model.evaluate(tf_test)[1]:.3f}\")\n"
   ]
  },
  {
   "cell_type": "code",
   "execution_count": 133,
   "metadata": {},
   "outputs": [
    {
     "data": {
      "image/png": "[encoded data removed]",
      "text/plain": [
       "<Figure size 640x480 with 1 Axes>"
      ]
     },
     "metadata": {},
     "output_type": "display_data"
    }
   ],
   "source": [
    "import matplotlib.pyplot as plt\n",
    "\n",
    "\n",
    "utility.plot_losses(history)"
   ]
  },
  {
   "cell_type": "code",
   "execution_count": 150,
   "metadata": {},
   "outputs": [
    {
     "data": {
      "text/plain": [
       "[0.6126322746276855,\n",
       " 0.488331139087677,\n",
       " 0.4387640357017517,\n",
       " 0.4175918400287628,\n",
       " 0.4037412703037262,\n",
       " 0.39127933979034424,\n",
       " 0.3815700113773346,\n",
       " 0.37390145659446716,\n",
       " 0.3659636974334717,\n",
       " 0.35925033688545227,\n",
       " 0.35351037979125977,\n",
       " 0.3479055166244507,\n",
       " 0.34269657731056213,\n",
       " 0.3379341661930084,\n",
       " 0.33498865365982056,\n",
       " 0.33058348298072815,\n",
       " 0.3254285752773285,\n",
       " 0.3221456706523895,\n",
       " 0.3191179037094116,\n",
       " 0.3156311511993408,\n",
       " 0.3130336403846741,\n",
       " 0.3102830946445465,\n",
       " 0.3078460991382599,\n",
       " 0.30399519205093384,\n",
       " 0.3031423091888428,\n",
       " 0.3003186285495758,\n",
       " 0.29779601097106934,\n",
       " 0.2964285910129547,\n",
       " 0.29406431317329407,\n",
       " 0.29295793175697327,\n",
       " 0.2900976836681366,\n",
       " 0.2886158525943756,\n",
       " 0.2871949374675751,\n",
       " 0.2847122550010681,\n",
       " 0.2841533422470093,\n",
       " 0.28301844000816345,\n",
       " 0.2819206416606903,\n",
       " 0.2793826162815094,\n",
       " 0.27975332736968994,\n",
       " 0.2778201401233673,\n",
       " 0.27640339732170105,\n",
       " 0.27632424235343933,\n",
       " 0.27455437183380127,\n",
       " 0.2731039822101593,\n",
       " 0.27160635590553284,\n",
       " 0.2715950608253479,\n",
       " 0.26982206106185913,\n",
       " 0.2688111662864685,\n",
       " 0.2683262526988983,\n",
       " 0.26704367995262146]"
      ]
     },
     "execution_count": 150,
     "metadata": {},
     "output_type": "execute_result"
    }
   ],
   "source": [
    "history.history['loss']"
   ]
  },
  {
   "cell_type": "code",
   "execution_count": 149,
   "metadata": {},
   "outputs": [
    {
     "name": "stdout",
     "output_type": "stream",
     "text": [
      "\u001b[1m88/88\u001b[0m \u001b[32m━━━━━━━━━━━━━━━━━━━━\u001b[0m\u001b[37m\u001b[0m \u001b[1m-2s\u001b[0m 2ms/step - accuracy: 0.8883 - loss: 0.2683   \n",
      "\u001b[1m88/88\u001b[0m \u001b[32m━━━━━━━━━━━━━━━━━━━━\u001b[0m\u001b[37m\u001b[0m \u001b[1m0s\u001b[0m 2ms/step\n",
      "              precision    recall  f1-score   support\n",
      "\n",
      "           0       0.88      0.89      0.89     22500\n",
      "           1       0.89      0.88      0.89     22500\n",
      "\n",
      "    accuracy                           0.89     45000\n",
      "   macro avg       0.89      0.89      0.89     45000\n",
      "weighted avg       0.89      0.89      0.89     45000\n",
      "\n",
      "[[20060  2440]\n",
      " [ 2664 19836]]\n"
     ]
    }
   ],
   "source": [
    "metrics_test = utility.test_model(model,tf_test)"
   ]
  },
  {
   "cell_type": "code",
   "execution_count": null,
   "metadata": {},
   "outputs": [
    {
     "name": "stdout",
     "output_type": "stream",
     "text": [
      "\u001b[1m88/88\u001b[0m \u001b[32m━━━━━━━━━━━━━━━━━━━━\u001b[0m\u001b[37m\u001b[0m \u001b[1m0s\u001b[0m 4ms/step - accuracy: 0.8883 - loss: 0.2683\n"
     ]
    },
    {
     "data": {
      "text/plain": [
       "[0.2703763246536255, 0.8865777850151062]"
      ]
     },
     "execution_count": 137,
     "metadata": {},
     "output_type": "execute_result"
    }
   ],
   "source": [
    "model.evaluate(tf_test) # [0] loss [1] accuracy"
   ]
  },
  {
   "cell_type": "code",
   "execution_count": 148,
   "metadata": {},
   "outputs": [
    {
     "data": {
      "text/plain": [
       "0.8898000121116638"
      ]
     },
     "execution_count": 148,
     "metadata": {},
     "output_type": "execute_result"
    }
   ],
   "source": [
    "history.history[\"val_loss\"][-1]\n",
    "history.history[\"val_accuracy\"][-1]"
   ]
  },
  {
   "cell_type": "code",
   "execution_count": 138,
   "metadata": {},
   "outputs": [
    {
     "name": "stdout",
     "output_type": "stream",
     "text": [
      "\u001b[1m88/88\u001b[0m \u001b[32m━━━━━━━━━━━━━━━━━━━━\u001b[0m\u001b[37m\u001b[0m \u001b[1m0s\u001b[0m 2ms/step\n"
     ]
    }
   ],
   "source": [
    "y_test = np.concatenate([y.numpy() for _, y in tf_test]) \n",
    "y_pred_probs = model.predict(tf_test)\n",
    "y_pred = (y_pred_probs > 0.5).astype(int) "
   ]
  },
  {
   "cell_type": "code",
   "execution_count": 79,
   "metadata": {},
   "outputs": [
    {
     "data": {
      "text/plain": [
       "45000"
      ]
     },
     "execution_count": 79,
     "metadata": {},
     "output_type": "execute_result"
    }
   ],
   "source": [
    "\n",
    "y_pred_probs.size"
   ]
  },
  {
   "cell_type": "code",
   "execution_count": 139,
   "metadata": {},
   "outputs": [
    {
     "name": "stdout",
     "output_type": "stream",
     "text": [
      "              precision    recall  f1-score   support\n",
      "\n",
      "           0       0.88      0.89      0.89     22500\n",
      "           1       0.89      0.88      0.89     22500\n",
      "\n",
      "    accuracy                           0.89     45000\n",
      "   macro avg       0.89      0.89      0.89     45000\n",
      "weighted avg       0.89      0.89      0.89     45000\n",
      "\n",
      "[[20060  2440]\n",
      " [ 2664 19836]]\n"
     ]
    }
   ],
   "source": [
    "from sklearn.metrics import classification_report, confusion_matrix\n",
    "\n",
    "print(classification_report(y_test, y_pred))\n",
    "print(confusion_matrix(y_test, y_pred))\n",
    "\n"
   ]
  },
  {
   "cell_type": "code",
   "execution_count": 82,
   "metadata": {},
   "outputs": [
    {
     "data": {
      "text/plain": [
       "5"
      ]
     },
     "execution_count": 82,
     "metadata": {},
     "output_type": "execute_result"
    }
   ],
   "source": [
    "16//3"
   ]
  }
 ],
 "metadata": {
  "kernelspec": {
   "display_name": "tf-wsl",
   "language": "python",
   "name": "python3"
  },
  "language_info": {
   "codemirror_mode": {
    "name": "ipython",
    "version": 3
   },
   "file_extension": ".py",
   "mimetype": "text/x-python",
   "name": "python",
   "nbconvert_exporter": "python",
   "pygments_lexer": "ipython3",
   "version": "3.12.9"
  }
 },
 "nbformat": 4,
 "nbformat_minor": 2
}
